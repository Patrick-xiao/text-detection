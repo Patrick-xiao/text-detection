{
 "cells": [
  {
   "cell_type": "code",
   "execution_count": 1,
   "id": "b8684c82-3790-4243-8b95-f8e967c3d208",
   "metadata": {},
   "outputs": [],
   "source": [
    "# Import necessary Python packages.\n",
    "import numpy as np\n",
    "import cv2\n",
    "import pytesseract\n",
    "import time\n",
    "\n",
    "\n",
    "\n",
    "\n",
    "\n"
   ]
  },
  {
   "cell_type": "code",
   "execution_count": 2,
   "id": "13bd256a-9d49-42ab-9c9d-f767659edc1e",
   "metadata": {},
   "outputs": [],
   "source": [
    "def check_image(img): # Function for checking the current image\n",
    "    cv2.imshow(\"img\",img)\n",
    "    cv2.waitKey(0)\n",
    "    cv2.destroyAllWindows()\n",
    "\n",
    "def compress_image(img, new_width, new_height): # Function for compress the image \n",
    "    compressed_image = cv2.resize(img, (new_width, new_height), interpolation=cv2.INTER_AREA)\n",
    "    return compressed_image\n",
    "\n",
    "def edge_detect(img): # Function for edge detection\n",
    "    return cv2.Canny(img,50,180)\n",
    "    \n",
    "def binary(img):\n",
    "    return cv2.threshold(img, 0, 255, cv2.THRESH_BINARY + cv2.THRESH_OTSU)[1]\n",
    "    \n",
    "def gaussian(img):\n",
    "    return cv2.GaussianBlur(img,(3,3),0)\n",
    "    \n",
    "def opening(img):\n",
    "    kernel = np.ones((3,3),np.uint8)\n",
    "    return cv2.morphologyEx(img, cv2.MORPH_OPEN, kernel)\n",
    "    \n"
   ]
  },
  {
   "cell_type": "code",
   "execution_count": 3,
   "id": "f8d85b15-1377-4f4b-b44d-8fc9edcbec7d",
   "metadata": {},
   "outputs": [],
   "source": [
    "#For this part, I mainly conduct digital screenshot image recognition."
   ]
  },
  {
   "cell_type": "code",
   "execution_count": 4,
   "id": "ea59938b-31f7-45a2-9ef6-a77f7ce9b18d",
   "metadata": {},
   "outputs": [],
   "source": [
    "# show the digital image\n",
    "digi_img = cv2.imread(\"spaceX.png\")\n",
    "check_image(digi_img)"
   ]
  },
  {
   "cell_type": "code",
   "execution_count": 5,
   "id": "55c592e7-6e7e-4cef-84ca-abbe705807ef",
   "metadata": {},
   "outputs": [],
   "source": [
    "# Multiple preprocessing methods.\n",
    "gray = cv2.cvtColor(digi_img,cv2.COLOR_BGR2GRAY)\n",
    "edge_img = edge_detect(gray)\n",
    "bina = binary(gray)\n",
    "blured = gaussian(gray)\n",
    "open = opening(gray)"
   ]
  },
  {
   "cell_type": "code",
   "execution_count": 6,
   "id": "9487a1ac-19ac-4524-a9c5-6885c8664514",
   "metadata": {},
   "outputs": [
    {
     "name": "stdout",
     "output_type": "stream",
     "text": [
      "SPACE > aa FALCON9 FALCONHEAVY DRAGON STARSHIP HUMANSPACEFLIGHT RIDESHARE STARSHIELD —_STARLINK SHOP\n",
      "i 7\n",
      "ns ee\n",
      "RECENT LAUNCH\n",
      "STARLINK MISSION\n",
      "\n"
     ]
    }
   ],
   "source": [
    "# Gray scale image detection.\n",
    "check_image(gray)\n",
    "boxes = pytesseract.image_to_boxes(gray, lang='eng', config='--psm 6 --oem 1')\n",
    "\n",
    "# Draw green rectangles on the image.\n",
    "text = pytesseract.image_to_string(gray, lang='eng', config='--psm 6 --oem 1')\n",
    "for b in boxes.splitlines():\n",
    "    b = b.split(' ')\n",
    "    x, y, w, h = int(b[1]), int(b[2]), int(b[3]), int(b[4])\n",
    "    cv2.rectangle(digi_img, (x, gray.shape[0] - y), (w, gray.shape[0] - h), (0, 255, 0), 2)\n",
    "check_image(digi_img)\n",
    "\n",
    "print(text)"
   ]
  },
  {
   "cell_type": "code",
   "execution_count": 7,
   "id": "2fb80a4d-d520-476c-82e3-581345b00a87",
   "metadata": {},
   "outputs": [
    {
     "name": "stdout",
     "output_type": "stream",
     "text": [
      "SPACEx< FALCON  GFALCONMEAYY  ORAGON STARSHIP MUMANSPACEFLICHT RIDESHARE  STARSHIELO STARLINEK SHOP\n",
      "LES A\n",
      "Py\n",
      "RECENT LAUNCH\n",
      "STARLINK MISSION\n",
      "\n"
     ]
    }
   ],
   "source": [
    "# Edge detection recognition.\n",
    "check_image(edge_img)\n",
    "text = pytesseract.image_to_string(edge_img, lang='eng', config='--psm 6 --oem 1')\n",
    "print(text)"
   ]
  },
  {
   "cell_type": "code",
   "execution_count": 8,
   "id": "62c402c4-f2fd-495c-8bb6-87d47b62c9b3",
   "metadata": {},
   "outputs": [
    {
     "name": "stdout",
     "output_type": "stream",
     "text": [
      "sPsacex FALCON9  FALCONHEAVY DRAGON STARSHIP HUMANSPACEFLIGHT RIDESHARE © STARSHIELD ~—STARLINK SHOP\n",
      "i ae oa ee\n",
      "\n",
      "RECENT LAUNCH\n",
      "\n",
      "STARLINK MISSION\n",
      "\n"
     ]
    }
   ],
   "source": [
    "#Gaussian blur recognition.\n",
    "check_image(blured)\n",
    "text = pytesseract.image_to_string(blured,lang='eng', config='--psm 6 --oem 1')\n",
    "print(text)"
   ]
  },
  {
   "cell_type": "code",
   "execution_count": 9,
   "id": "ace48ff0-d6eb-4154-9e20-00f234127b5c",
   "metadata": {},
   "outputs": [
    {
     "name": "stdout",
     "output_type": "stream",
     "text": [
      "SPACE x FALCON9 FALCONHEAVY DRAGON STARSHIP HUMANSPACEFLIGHT RIDESHARE STARSHIELD —STARLINK SHOP\n",
      "‘ 4\n",
      "SE IST mee\n",
      "RECENT LAUNCH\n",
      "STARLINK MISSION\n",
      "\n",
      "2.2878034114837646\n"
     ]
    }
   ],
   "source": [
    "#Binarization processing recognition.\n",
    "start_time = time.time()\n",
    "check_image(bina)\n",
    "text = pytesseract.image_to_string(bina, lang='eng', config='--psm 6 --oem 1')\n",
    "print(text)\n",
    "end_time = time.time()\n",
    "processing_time = end_time-start_time\n",
    "print(processing_time)"
   ]
  },
  {
   "cell_type": "code",
   "execution_count": 10,
   "id": "7a7ec387-c079-4684-9c4c-db08e3300d06",
   "metadata": {},
   "outputs": [
    {
     "name": "stdout",
     "output_type": "stream",
     "text": [
      "Ss P aN [ a x FALCON 9 FALCON HEAVY DRAGON STARSHIP HUMAN SPACEFLIGHT RIDESHARE STARSHIELD STARLINK SHOP\n",
      "ns\n",
      "\n",
      "RECENT LAUNCH\n",
      "\n",
      "STARLINK MISSION\n",
      "\n"
     ]
    }
   ],
   "source": [
    "# Opening operation recognition.\n",
    "check_image(open)\n",
    "text = pytesseract.image_to_string(open, lang='eng', config='--psm 6 --oem 1')\n",
    "print(text)"
   ]
  },
  {
   "cell_type": "code",
   "execution_count": 11,
   "id": "ba4bc57c-3215-4111-b1a1-e56391ddecf1",
   "metadata": {},
   "outputs": [],
   "source": [
    "# The recognition effect of pure English digital images is good. \n",
    "# The effects are as follows: binary image > edge detection > grayscale image > Gaussian blur > opening operation."
   ]
  },
  {
   "cell_type": "code",
   "execution_count": 12,
   "id": "7d5d7320-101c-4f46-80ba-f8e49ddd525b",
   "metadata": {},
   "outputs": [],
   "source": [
    "# This part conducts English real-scene captured image detection.\n",
    "# And this part is our target for judging the efficiency\n"
   ]
  },
  {
   "cell_type": "code",
   "execution_count": 13,
   "id": "3769fb5e-4237-460c-a1a8-cf1602f3e2ee",
   "metadata": {},
   "outputs": [
    {
     "name": "stdout",
     "output_type": "stream",
     "text": [
      "\\\n",
      "\n"
     ]
    }
   ],
   "source": [
    "# Directly recognize real-scene captured pictures without rotation.\n",
    "real_img = cv2.imread(\"cup.jpg\")\n",
    "cup = compress_image(real_img,800,800)\n",
    "text = pytesseract.image_to_string(cup, lang='eng', config='--psm 6 --oem 1')\n",
    "print(text)"
   ]
  },
  {
   "cell_type": "code",
   "execution_count": 14,
   "id": "2ef26e06-e552-4a86-acc0-db8b3098597e",
   "metadata": {},
   "outputs": [
    {
     "name": "stdout",
     "output_type": "stream",
     "text": [
      "ee\n",
      "\n",
      "|\n",
      "\n",
      "|\n",
      "\n",
      "| TRAVEL SILICONE\n",
      "\n",
      "| FOLDING CUP\n",
      "po\n",
      "ff\n",
      "\n",
      "8.260015726089478\n"
     ]
    }
   ],
   "source": [
    "# This is a whole process\n",
    "start_time = time.time()\n",
    "real_img = cv2.imread(\"cup.jpg\")\n",
    "cup = compress_image(real_img,800,800)\n",
    "# graying\n",
    "gray = cv2.cvtColor(cup, cv2.COLOR_BGR2GRAY)\n",
    "\n",
    "# Edge detection.\n",
    "edges = cv2.Canny(gray, 60, 140)\n",
    "\n",
    "# Contour detection.\n",
    "contours, _ = cv2.findContours(edges, cv2.RETR_EXTERNAL, cv2.CHAIN_APPROX_SIMPLE)\n",
    "\n",
    "# Find the minimum bounding rectangle and determine the rotation angle.\n",
    "for contour in contours:\n",
    "    rect = cv2.minAreaRect(contour)\n",
    "    box = cv2.boxPoints(rect)\n",
    "    box = np.intp(box)\n",
    "    angle = rect[-1]\n",
    "    if angle < 0:\n",
    "        angle = 90 + angle\n",
    "\n",
    "    # rotating image\n",
    "    height, width = cup.shape[:2]\n",
    "    center = (width // 2, height // 2)\n",
    "    rotation_matrix = cv2.getRotationMatrix2D(center, angle-90, 1.0)\n",
    "    rotated_image = cv2.warpAffine(cup, rotation_matrix, (width, height))\n",
    "edges = cv2.Canny(rotated_image, 60, 140)\n",
    "\n",
    "text = pytesseract.image_to_string(edges, lang='eng', config='--psm 6 --oem 1')\n",
    "boxes = pytesseract.image_to_boxes(rotated_image, lang='eng', config='--psm 6 --oem 1')\n",
    "for b in boxes.splitlines():\n",
    "    b = b.split(' ')\n",
    "    x, y, w, h = int(b[1]), int(b[2]), int(b[3]), int(b[4])\n",
    "    cv2.rectangle(rotated_image, (x, rotated_image.shape[0] - y), (w, rotated_image.shape[0] - h), (0, 255, 0), 2)\n",
    "check_image(cup)\n",
    "check_image(rotated_image)\n",
    "print(text)\n",
    "end_time = time.time()\n",
    "processing_time = end_time-start_time\n",
    "print(processing_time)"
   ]
  },
  {
   "cell_type": "code",
   "execution_count": null,
   "id": "fba42790-69b9-45cb-b9ab-43d5e87dd8ff",
   "metadata": {},
   "outputs": [],
   "source": []
  },
  {
   "cell_type": "code",
   "execution_count": null,
   "id": "d2ea1a31-9dfe-43eb-a8e1-ffa566c55955",
   "metadata": {},
   "outputs": [],
   "source": []
  }
 ],
 "metadata": {
  "kernelspec": {
   "display_name": "Python 3 (ipykernel)",
   "language": "python",
   "name": "python3"
  },
  "language_info": {
   "codemirror_mode": {
    "name": "ipython",
    "version": 3
   },
   "file_extension": ".py",
   "mimetype": "text/x-python",
   "name": "python",
   "nbconvert_exporter": "python",
   "pygments_lexer": "ipython3",
   "version": "3.12.4"
  }
 },
 "nbformat": 4,
 "nbformat_minor": 5
}
